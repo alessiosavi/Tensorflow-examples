{
 "cells": [
  {
   "cell_type": "code",
   "execution_count": 1,
   "id": "050731c9-99db-46b8-8645-2c7333097540",
   "metadata": {
    "execution": {
     "iopub.execute_input": "2021-04-27T16:53:56.965065Z",
     "iopub.status.busy": "2021-04-27T16:53:56.964891Z",
     "iopub.status.idle": "2021-04-27T16:53:56.967236Z",
     "shell.execute_reply": "2021-04-27T16:53:56.966719Z",
     "shell.execute_reply.started": "2021-04-27T16:53:56.965029Z"
    }
   },
   "outputs": [],
   "source": [
    "# Animal classification\n",
    "# https://www.kaggle.com/stpeteishii/animal-detection-by-yolo-coco-model"
   ]
  },
  {
   "cell_type": "code",
   "execution_count": 8,
   "id": "4dd44334-f2dc-4db1-ab96-09defd28b711",
   "metadata": {
    "execution": {
     "iopub.execute_input": "2021-04-27T18:14:00.307034Z",
     "iopub.status.busy": "2021-04-27T18:14:00.306898Z",
     "iopub.status.idle": "2021-04-27T18:14:00.309563Z",
     "shell.execute_reply": "2021-04-27T18:14:00.309095Z",
     "shell.execute_reply.started": "2021-04-27T18:14:00.307019Z"
    },
    "tags": []
   },
   "outputs": [],
   "source": [
    "import math\n",
    "import os\n",
    "\n",
    "import numpy as np\n",
    "import pandas as pd\n",
    "import tensorflow as tf\n",
    "from PIL import Image\n",
    "from tensorflow.keras import layers\n",
    "from tqdm import tqdm"
   ]
  },
  {
   "cell_type": "code",
   "execution_count": 23,
   "id": "11737b4c-8596-4cd5-b66c-85719a0353d4",
   "metadata": {
    "execution": {
     "iopub.execute_input": "2021-04-27T18:18:47.811055Z",
     "iopub.status.busy": "2021-04-27T18:18:47.810933Z",
     "iopub.status.idle": "2021-04-27T18:18:47.987932Z",
     "shell.execute_reply": "2021-04-27T18:18:47.987518Z",
     "shell.execute_reply.started": "2021-04-27T18:18:47.811042Z"
    },
    "tags": []
   },
   "outputs": [],
   "source": [
    "# example of loading the mnist dataset\n",
    "from tensorflow.keras.datasets import mnist\n",
    "\n",
    "(X_train, y_train), (X_test, y_test) = mnist.load_data()"
   ]
  },
  {
   "cell_type": "code",
   "execution_count": 26,
   "id": "ad14229a-a083-434f-b716-516fe1db520b",
   "metadata": {
    "execution": {
     "iopub.execute_input": "2021-04-27T18:19:08.926108Z",
     "iopub.status.busy": "2021-04-27T18:19:08.925932Z",
     "iopub.status.idle": "2021-04-27T18:19:09.304544Z",
     "shell.execute_reply": "2021-04-27T18:19:09.304045Z",
     "shell.execute_reply.started": "2021-04-27T18:19:08.926080Z"
    },
    "tags": []
   },
   "outputs": [],
   "source": [
    "train_ds = tf.data.Dataset.from_tensor_slices((X_train, y_train))\n",
    "val_ds = tf.data.Dataset.from_tensor_slices((X_test, y_test))\n",
    "BATCH_SIZE = 64\n",
    "img_height = 28\n",
    "img_width = 28\n",
    "SHUFFLE_BUFFER_SIZE = 100\n",
    "AUTOTUNE = tf.data.AUTOTUNE\n",
    "\n",
    "train_ds = (\n",
    "    train_ds.shuffle(SHUFFLE_BUFFER_SIZE)\n",
    "    .batch(BATCH_SIZE)\n",
    "    .cache()\n",
    "    .prefetch(buffer_size=AUTOTUNE)\n",
    ")\n",
    "val_ds = val_ds.batch(BATCH_SIZE).cache().prefetch(buffer_size=AUTOTUNE)"
   ]
  },
  {
   "cell_type": "code",
   "execution_count": 27,
   "id": "181b9400-87f8-4e37-b5e1-b8f41c2f9904",
   "metadata": {
    "execution": {
     "iopub.execute_input": "2021-04-27T18:19:11.009031Z",
     "iopub.status.busy": "2021-04-27T18:19:11.008392Z",
     "iopub.status.idle": "2021-04-27T18:19:11.109220Z",
     "shell.execute_reply": "2021-04-27T18:19:11.108809Z",
     "shell.execute_reply.started": "2021-04-27T18:19:11.008957Z"
    },
    "tags": []
   },
   "outputs": [],
   "source": [
    "# Iterate all the dataset, and retrieve only the y\n",
    "# Then filter only for unique\n",
    "class_names = list(set(np.concatenate([y for x, y in train_ds], axis=0)))"
   ]
  },
  {
   "cell_type": "code",
   "execution_count": 28,
   "id": "1a39527a-b79c-420c-ab9f-5e7efc11ed2b",
   "metadata": {
    "execution": {
     "iopub.execute_input": "2021-04-27T18:19:12.180696Z",
     "iopub.status.busy": "2021-04-27T18:19:12.180349Z",
     "iopub.status.idle": "2021-04-27T18:19:12.212375Z",
     "shell.execute_reply": "2021-04-27T18:19:12.211917Z",
     "shell.execute_reply.started": "2021-04-27T18:19:12.180655Z"
    },
    "tags": []
   },
   "outputs": [
    {
     "name": "stdout",
     "output_type": "stream",
     "text": [
      "Labels: tf.Tensor(\n",
      "[1 1 6 3 5 1 7 3 0 4 7 4 6 0 1 1 4 5 9 5 7 4 9 1 8 1 6 9 2 8 8 7 9 6 2 5 0\n",
      " 4 5 6 6 4 1 1 1 4 9 9 7 0 6 2 4 3 9 8 1 8 0 7 0 2 4 4], shape=(64,), dtype=uint8)\n",
      "Image shape: (64, 28, 28)\n"
     ]
    }
   ],
   "source": [
    "for element in train_ds.take(1):\n",
    "    data = element[0]\n",
    "    labels = element[1]\n",
    "    print(\"Labels:\", labels)\n",
    "    print(\"Image shape:\", data.shape)"
   ]
  },
  {
   "cell_type": "code",
   "execution_count": 35,
   "id": "740a38af-72e2-4d4b-af16-10b1a1509da5",
   "metadata": {
    "execution": {
     "iopub.execute_input": "2021-04-27T18:20:52.684728Z",
     "iopub.status.busy": "2021-04-27T18:20:52.684562Z",
     "iopub.status.idle": "2021-04-27T18:20:52.727325Z",
     "shell.execute_reply": "2021-04-27T18:20:52.726912Z",
     "shell.execute_reply.started": "2021-04-27T18:20:52.684714Z"
    },
    "tags": []
   },
   "outputs": [],
   "source": [
    "model = tf.keras.Sequential(\n",
    "    [\n",
    "        layers.experimental.preprocessing.Rescaling(\n",
    "            1.0 / 255, input_shape=(img_height, img_width, 1)\n",
    "        ),\n",
    "        #         layers.experimental.preprocessing.RandomFlip(\"horizontal_and_vertical\"),\n",
    "        #         layers.experimental.preprocessing.RandomRotation(0.1),\n",
    "        layers.Conv2D(128, 3, activation=\"relu\"),\n",
    "        layers.MaxPooling2D(),\n",
    "        layers.Conv2D(64, 3, activation=\"relu\"),\n",
    "        layers.MaxPooling2D(),\n",
    "        layers.Conv2D(32, 3, activation=\"relu\"),\n",
    "        layers.MaxPooling2D(),\n",
    "        layers.Flatten(),\n",
    "        layers.Dense(128, activation=\"relu\"),\n",
    "        layers.Dense(len(class_names), activation=\"softmax\"),\n",
    "    ]\n",
    ")\n",
    "model.compile(\n",
    "    optimizer=\"adam\",\n",
    "    loss=tf.losses.SparseCategoricalCrossentropy(from_logits=True),\n",
    "    metrics=[\"accuracy\"],\n",
    ")"
   ]
  },
  {
   "cell_type": "code",
   "execution_count": null,
   "id": "79d17f5a-8e83-4433-ae40-b6b2d8b03cb9",
   "metadata": {
    "tags": []
   },
   "outputs": [],
   "source": [
    "model.fit(\n",
    "    train_ds, validation_data=val_ds, epochs=10, batch_size=BATCH_SIZE,\n",
    ")"
   ]
  },
  {
   "cell_type": "code",
   "execution_count": 83,
   "id": "a60de4b3-cf24-4e74-a8d3-33b6c09d10f4",
   "metadata": {
    "execution": {
     "iopub.execute_input": "2021-04-27T17:26:27.226615Z",
     "iopub.status.busy": "2021-04-27T17:26:27.226271Z",
     "iopub.status.idle": "2021-04-27T17:26:27.953148Z",
     "shell.execute_reply": "2021-04-27T17:26:27.951272Z",
     "shell.execute_reply.started": "2021-04-27T17:26:27.226575Z"
    },
    "tags": []
   },
   "outputs": [
    {
     "name": "stdout",
     "output_type": "stream",
     "text": [
      "157/157 [==============================] - 1s 4ms/step - loss: 0.0820 - accuracy: 0.9854\n",
      "Accuracy 0.9854000210762024\n"
     ]
    }
   ],
   "source": [
    "loss, acc = model.evaluate(val_ds)\n",
    "print(\"Accuracy\", acc)"
   ]
  },
  {
   "cell_type": "code",
   "execution_count": 84,
   "id": "c9b781fc-c7e0-4a4f-9b1f-693b2f7842e3",
   "metadata": {
    "execution": {
     "iopub.execute_input": "2021-04-27T17:26:30.776277Z",
     "iopub.status.busy": "2021-04-27T17:26:30.775653Z",
     "iopub.status.idle": "2021-04-27T17:26:31.155399Z",
     "shell.execute_reply": "2021-04-27T17:26:31.155014Z",
     "shell.execute_reply.started": "2021-04-27T17:26:30.776203Z"
    },
    "tags": []
   },
   "outputs": [
    {
     "data": {
      "text/plain": [
       "<Figure size 360x360 with 0 Axes>"
      ]
     },
     "metadata": {},
     "output_type": "display_data"
    },
    {
     "data": {
      "text/plain": [
       "<Figure size 360x360 with 0 Axes>"
      ]
     },
     "metadata": {},
     "output_type": "display_data"
    },
    {
     "data": {
      "text/plain": [
       "<Figure size 360x360 with 0 Axes>"
      ]
     },
     "metadata": {},
     "output_type": "display_data"
    },
    {
     "data": {
      "text/plain": [
       "<Figure size 360x360 with 0 Axes>"
      ]
     },
     "metadata": {},
     "output_type": "display_data"
    },
    {
     "data": {
      "text/plain": [
       "<Figure size 360x360 with 0 Axes>"
      ]
     },
     "metadata": {},
     "output_type": "display_data"
    },
    {
     "data": {
      "text/plain": [
       "<Figure size 360x360 with 0 Axes>"
      ]
     },
     "metadata": {},
     "output_type": "display_data"
    },
    {
     "data": {
      "text/plain": [
       "<Figure size 360x360 with 0 Axes>"
      ]
     },
     "metadata": {},
     "output_type": "display_data"
    },
    {
     "data": {
      "text/plain": [
       "<Figure size 360x360 with 0 Axes>"
      ]
     },
     "metadata": {},
     "output_type": "display_data"
    },
    {
     "data": {
      "image/png": "[encoded data removed]",
      "text/plain": [
       "<Figure size 360x360 with 1 Axes>"
      ]
     },
     "metadata": {
      "needs_background": "light"
     },
     "output_type": "display_data"
    },
    {
     "data": {
      "text/plain": [
       "<Figure size 360x360 with 0 Axes>"
      ]
     },
     "metadata": {},
     "output_type": "display_data"
    }
   ],
   "source": [
    "import matplotlib.pyplot as plt\n",
    "\n",
    "for images, labels in train_ds.take(10):\n",
    "\n",
    "    fig = plt.figure(figsize=(5, 5))\n",
    "    pred_prob = [(np.argmax(p), max(p)) for p in model.predict(images)]\n",
    "    predictions = [class_names[a[0]] for a in pred_prob]\n",
    "    expected = [class_names[a] for a in labels]\n",
    "    not_match = [i for i in range(len(predictions)) if predictions[i] != expected[i]]\n",
    "    rows = columns = int(math.ceil(len(not_match)))\n",
    "    for i in range(len(not_match)):\n",
    "        fig.add_subplot(rows, columns, i + 1)\n",
    "        plt.imshow(images[not_match[i]].numpy().astype(\"uint8\"))\n",
    "        plt.title(\n",
    "            \"Expected: {}| Predicted: {}\".format(\n",
    "                expected[not_match[i]], predictions[not_match[i]]\n",
    "            )\n",
    "        )\n",
    "        plt.axis(\"off\")"
   ]
  }
 ],
 "metadata": {
  "kernelspec": {
   "display_name": "Python 3",
   "language": "python",
   "name": "python3"
  },
  "language_info": {
   "codemirror_mode": {
    "name": "ipython",
    "version": 3
   },
   "file_extension": ".py",
   "mimetype": "text/x-python",
   "name": "python",
   "nbconvert_exporter": "python",
   "pygments_lexer": "ipython3",
   "version": "3.8.8"
  }
 },
 "nbformat": 4,
 "nbformat_minor": 5
}
