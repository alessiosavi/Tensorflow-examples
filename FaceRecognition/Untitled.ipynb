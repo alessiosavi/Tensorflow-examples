{
 "cells": [
  {
   "cell_type": "code",
   "execution_count": null,
   "id": "dd120531-4519-494f-b11d-a41b5f7b3cb6",
   "metadata": {
    "tags": []
   },
   "outputs": [],
   "source": [
    "import math\n",
    "import os\n",
    "import shutil\n",
    "\n",
    "import matplotlib.pyplot as plt\n",
    "import numpy as np\n",
    "import tensorflow as tf\n",
    "from tensorflow.keras import layers\n",
    "from tqdm import tqdm"
   ]
  },
  {
   "cell_type": "code",
   "execution_count": null,
   "id": "7329eaed-f0c8-4577-b2ec-d124a2702c95",
   "metadata": {
    "tags": []
   },
   "outputs": [],
   "source": [
    "batch_size = 32\n",
    "img_height = 180\n",
    "img_width = 180"
   ]
  },
  {
   "cell_type": "code",
   "execution_count": null,
   "id": "4059813a-5095-4467-9bb0-2f4bde4ff14d",
   "metadata": {
    "tags": []
   },
   "outputs": [],
   "source": [
    "# Remove folder that contains less than X sample:\n",
    "MIN_PHOTO = 10\n",
    "d = {}\n",
    "for folder in os.listdir(\"lfw\"):\n",
    "    d[folder] = len(os.listdir(os.path.join(\"lfw\", folder)))\n",
    "for key in list(d.keys()):\n",
    "    if d[key] < MIN_PHOTO:\n",
    "        shutil.rmtree(os.path.join(\"lfw\", key))"
   ]
  },
  {
   "cell_type": "code",
   "execution_count": null,
   "id": "19c893c4-2d2c-4c01-8836-ce25500ea14d",
   "metadata": {
    "tags": []
   },
   "outputs": [],
   "source": [
    "basedir = \"lfw\"\n",
    "train_ds = tf.keras.preprocessing.image_dataset_from_directory(\n",
    "    basedir,\n",
    "    validation_split=0.2,\n",
    "    subset=\"training\",\n",
    "    seed=123,\n",
    "    image_size=(img_height, img_width),\n",
    "    batch_size=batch_size,\n",
    ")"
   ]
  },
  {
   "cell_type": "code",
   "execution_count": null,
   "id": "9fea9600-1adf-4329-9a29-2e5d418d8c3d",
   "metadata": {
    "tags": []
   },
   "outputs": [],
   "source": [
    "val_ds = tf.keras.preprocessing.image_dataset_from_directory(\n",
    "    basedir,\n",
    "    validation_split=0.2,\n",
    "    subset=\"validation\",\n",
    "    seed=123,\n",
    "    image_size=(img_height, img_width),\n",
    "    batch_size=batch_size,\n",
    ")"
   ]
  },
  {
   "cell_type": "code",
   "execution_count": null,
   "id": "c793244c-6721-4aa7-a056-aaeb5bb253eb",
   "metadata": {
    "tags": []
   },
   "outputs": [],
   "source": [
    "class_names = train_ds.class_names\n",
    "print(class_names[0:10])"
   ]
  },
  {
   "cell_type": "code",
   "execution_count": null,
   "id": "1e112ef8-a778-4737-90d5-d70d2a138073",
   "metadata": {
    "tags": []
   },
   "outputs": [],
   "source": [
    "AUTOTUNE = tf.data.AUTOTUNE\n",
    "\n",
    "train_ds = train_ds.cache().prefetch(buffer_size=AUTOTUNE)\n",
    "val_ds = val_ds.cache().prefetch(buffer_size=AUTOTUNE)"
   ]
  },
  {
   "cell_type": "code",
   "execution_count": null,
   "id": "00a33927-fae9-4803-9f28-6935b15df4d6",
   "metadata": {
    "tags": []
   },
   "outputs": [],
   "source": [
    "resize_and_rescale = tf.keras.Sequential(\n",
    "    [\n",
    "        layers.experimental.preprocessing.Resizing(img_height, img_width),\n",
    "        layers.experimental.preprocessing.Rescaling(1.0 / 255),\n",
    "    ]\n",
    ")\n",
    "data_augmentation = tf.keras.Sequential(\n",
    "    [\n",
    "        layers.experimental.preprocessing.RandomFlip(\"horizontal_and_vertical\"),\n",
    "        layers.experimental.preprocessing.RandomRotation(0.2),\n",
    "    ]\n",
    ")"
   ]
  },
  {
   "cell_type": "code",
   "execution_count": null,
   "id": "9e628480-fc1b-4bb8-912a-2a2981e24037",
   "metadata": {
    "tags": []
   },
   "outputs": [],
   "source": [
    "model = tf.keras.Sequential(\n",
    "    [\n",
    "        resize_and_rescale,\n",
    "        data_augmentation,\n",
    "        layers.Conv2D(128, 3, activation=\"relu\"),\n",
    "        layers.MaxPooling2D(),\n",
    "        layers.Conv2D(128, 3, activation=\"relu\"),\n",
    "        layers.MaxPooling2D(),\n",
    "        layers.Conv2D(64, 3, activation=\"relu\"),\n",
    "        layers.MaxPooling2D(),\n",
    "        layers.Flatten(),\n",
    "        layers.Dense(128, activation=\"relu\"),\n",
    "        layers.Dense(len(class_names), activation=\"softmax\"),\n",
    "    ]\n",
    ")\n",
    "model.compile(\n",
    "    optimizer=\"adam\",\n",
    "    loss=tf.losses.SparseCategoricalCrossentropy(from_logits=True),\n",
    "    metrics=[\"accuracy\"],\n",
    ")"
   ]
  },
  {
   "cell_type": "code",
   "execution_count": null,
   "id": "5725cb30-da9c-4504-afae-da893315b9a4",
   "metadata": {
    "tags": []
   },
   "outputs": [],
   "source": [
    "model.fit(train_ds, validation_data=val_ds, epochs=20, batch_size=batch_size)"
   ]
  },
  {
   "cell_type": "code",
   "execution_count": null,
   "id": "fd2681dd-34b1-48d4-a26b-86c46ede2eba",
   "metadata": {
    "tags": []
   },
   "outputs": [],
   "source": [
    "loss, acc = model.evaluate(val_ds)\n",
    "print(\"Accuracy\", acc)"
   ]
  },
  {
   "cell_type": "code",
   "execution_count": null,
   "id": "7b9eb7e7-fca1-4e29-92cd-1f13029c7f33",
   "metadata": {
    "tags": []
   },
   "outputs": [],
   "source": [
    "for images, labels in val_ds.take(10):\n",
    "    #     fig = plt.figure(figsize=(5, 5))\n",
    "    pred_prob = [(np.argmax(p), max(p)) for p in model.predict(images)]\n",
    "    predictions = [class_names[a[0]] for a in pred_prob]\n",
    "    expected = [class_names[a] for a in labels]\n",
    "    not_match = [i for i in range(len(predictions)) if predictions[i] != expected[i]]\n",
    "    rows = columns = int(math.ceil(len(not_match)))\n",
    "    for i in range(len(not_match)):\n",
    "        #         fig.add_subplot(rows, columns, i + 1)\n",
    "        plt.imshow(images[not_match[i]].numpy().astype(\"uint8\"))\n",
    "        plt.title(\"{}|{}\".format(expected[not_match[i]], predictions[not_match[i]]))\n",
    "        #         plt.axis(\"off\")\n",
    "        #         plt.imshow(img)\n",
    "        plt.show()"
   ]
  },
  {
   "cell_type": "markdown",
   "id": "c33f5359-166e-445b-ac0d-4146bad5e455",
   "metadata": {},
   "source": [
    "# Predict using face embeddings"
   ]
  },
  {
   "cell_type": "code",
   "execution_count": null,
   "id": "e8946011-3d51-44fc-9da6-f583b87eba4f",
   "metadata": {
    "tags": []
   },
   "outputs": [],
   "source": [
    "# load our serialized face detector from disk\n",
    "print(\"[INFO] loading face detector...\")\n",
    "protoPath = \"dnn_models/deploy.prototxt\"\n",
    "modelPath = \"dnn_models/res10_300x300_ssd_iter_140000.caffemodel\"\n",
    "detector = cv2.dnn.readNetFromCaffe(protoPath, modelPath)\n",
    "detector.setPreferableBackend(cv2.dnn.DNN_BACKEND_CUDA)\n",
    "detector.setPreferableTarget(cv2.dnn.DNN_TARGET_CUDA)\n",
    "# load our serialized face embedding model from disk\n",
    "print(\"[INFO] loading face recognizer...\")\n",
    "embedder = cv2.dnn.readNetFromTorch(\"dnn_models/openface.nn4.small2.v1.t7\")\n",
    "embedder.setPreferableBackend(cv2.dnn.DNN_BACKEND_CUDA)\n",
    "embedder.setPreferableTarget(cv2.dnn.DNN_TARGET_CUDA)"
   ]
  },
  {
   "cell_type": "code",
   "execution_count": null,
   "id": "5cbb9ad1-2d24-4df0-9373-cd011af38d97",
   "metadata": {
    "tags": []
   },
   "outputs": [],
   "source": [
    "x_train_path = []\n",
    "y_train = []\n",
    "x_test_path = []\n",
    "y_test = []\n",
    "\n",
    "for person in os.listdir(basedir):\n",
    "    person_dir = os.path.join(basedir, person)\n",
    "    person_photos = os.listdir(person_dir)\n",
    "    for photo in person_photos[: int(len(person_photos) * 0.8)]:\n",
    "        x_train_path.append(os.path.join(person_dir, photo))\n",
    "        y_train.append(person)\n",
    "    for photo in person_photos[int(len(person_photos) * 0.8) :]:\n",
    "        x_test_path.append(os.path.join(person_dir, photo))\n",
    "        y_test.append(person)"
   ]
  },
  {
   "cell_type": "code",
   "execution_count": null,
   "id": "db238521-e3cb-4bfa-b6e4-0bf3b6180188",
   "metadata": {
    "tags": []
   },
   "outputs": [],
   "source": [
    "face_path"
   ]
  },
  {
   "cell_type": "code",
   "execution_count": 1,
   "id": "70bb85ed-a445-48b5-a9c9-f9958bdaaa42",
   "metadata": {
    "execution": {
     "iopub.execute_input": "2021-04-27T22:24:19.721510Z",
     "iopub.status.busy": "2021-04-27T22:24:19.720555Z",
     "iopub.status.idle": "2021-04-27T22:24:19.787119Z",
     "shell.execute_reply": "2021-04-27T22:24:19.786615Z",
     "shell.execute_reply.started": "2021-04-27T22:24:19.721133Z"
    },
    "tags": []
   },
   "outputs": [
    {
     "ename": "NameError",
     "evalue": "name 'tqdm' is not defined",
     "output_type": "error",
     "traceback": [
      "\u001b[0;31m---------------------------------------------------------------------------\u001b[0m",
      "\u001b[0;31mNameError\u001b[0m                                 Traceback (most recent call last)",
      "\u001b[0;32m<ipython-input-1-e301ad31a475>\u001b[0m in \u001b[0;36m<module>\u001b[0;34m\u001b[0m\n\u001b[1;32m      1\u001b[0m \u001b[0mX_train\u001b[0m \u001b[0;34m=\u001b[0m \u001b[0;34m[\u001b[0m\u001b[0;34m]\u001b[0m\u001b[0;34m\u001b[0m\u001b[0;34m\u001b[0m\u001b[0m\n\u001b[0;32m----> 2\u001b[0;31m \u001b[0;32mfor\u001b[0m \u001b[0mface_path\u001b[0m \u001b[0;32min\u001b[0m \u001b[0mtqdm\u001b[0m\u001b[0;34m(\u001b[0m\u001b[0mx_train_path\u001b[0m\u001b[0;34m)\u001b[0m\u001b[0;34m:\u001b[0m\u001b[0;34m\u001b[0m\u001b[0;34m\u001b[0m\u001b[0m\n\u001b[0m\u001b[1;32m      3\u001b[0m     \u001b[0mimage\u001b[0m \u001b[0;34m=\u001b[0m \u001b[0mcv2\u001b[0m\u001b[0;34m.\u001b[0m\u001b[0mimread\u001b[0m\u001b[0;34m(\u001b[0m\u001b[0mface_path\u001b[0m\u001b[0;34m)\u001b[0m\u001b[0;34m\u001b[0m\u001b[0;34m\u001b[0m\u001b[0m\n\u001b[1;32m      4\u001b[0m     \u001b[0;34m(\u001b[0m\u001b[0mh\u001b[0m\u001b[0;34m,\u001b[0m \u001b[0mw\u001b[0m\u001b[0;34m)\u001b[0m \u001b[0;34m=\u001b[0m \u001b[0mimage\u001b[0m\u001b[0;34m.\u001b[0m\u001b[0mshape\u001b[0m\u001b[0;34m[\u001b[0m\u001b[0;34m:\u001b[0m\u001b[0;36m2\u001b[0m\u001b[0;34m]\u001b[0m\u001b[0;34m\u001b[0m\u001b[0;34m\u001b[0m\u001b[0m\n\u001b[1;32m      5\u001b[0m     \u001b[0mimageBlob\u001b[0m \u001b[0;34m=\u001b[0m \u001b[0mcv2\u001b[0m\u001b[0;34m.\u001b[0m\u001b[0mdnn\u001b[0m\u001b[0;34m.\u001b[0m\u001b[0mblobFromImage\u001b[0m\u001b[0;34m(\u001b[0m\u001b[0mimage\u001b[0m\u001b[0;34m)\u001b[0m\u001b[0;34m\u001b[0m\u001b[0;34m\u001b[0m\u001b[0m\n",
      "\u001b[0;31mNameError\u001b[0m: name 'tqdm' is not defined"
     ]
    }
   ],
   "source": [
    "X_train = []\n",
    "for face_path in tqdm(x_train_path):\n",
    "    image = cv2.imread(face_path)\n",
    "    (h, w) = image.shape[:2]\n",
    "    imageBlob = cv2.dnn.blobFromImage(image)\n",
    "    detector.setInput(imageBlob)\n",
    "    detections = detector.forward()\n",
    "    # ensure at least one face was found\n",
    "    assert len(detections) > 0\n",
    "    # we're making the assumption that each image has only ONE\n",
    "    # face, so find the bounding box with the largest probability\n",
    "    i = np.argmax(detections[0, 0, :, 2])\n",
    "    confidence = detections[0, 0, i, 2]\n",
    "    # ensure that the detection with the largest probability also\n",
    "    # means our minimum probability test (thus helping filter out\n",
    "    # weak detections)\n",
    "    if confidence > 0.5:\n",
    "        # compute the (x, y)-coordinates of the bounding box for\n",
    "        # the face\n",
    "        box = detections[0, 0, i, 3:7] * np.array([w, h, w, h])\n",
    "        (startX, startY, endX, endY) = box.astype(\"int\")\n",
    "        # extract the face ROI and grab the ROI dimensions\n",
    "        face = image[startY:endY, startX:endX]\n",
    "        (fH, fW) = face.shape[:2]\n",
    "        # ensure the face width and height are sufficiently large\n",
    "        if fW > 20 and fH > 20:\n",
    "            # construct a blob for the face ROI, then pass the blob\n",
    "            # through our face embedding model to obtain the 128-d\n",
    "            # quantification of the face\n",
    "            faceBlob = cv2.dnn.blobFromImage(\n",
    "                face, 1.0, (96, 96), (0, 0, 0), swapRB=True, crop=False\n",
    "            )\n",
    "            embedder.setInput(faceBlob)\n",
    "            vec = embedder.forward()\n",
    "            # add the name of the person + corresponding face\n",
    "            # embedding to their respective lists\n",
    "            X_train.append(vec.flatten())"
   ]
  }
 ],
 "metadata": {
  "kernelspec": {
   "display_name": "Python 3",
   "language": "python",
   "name": "python3"
  },
  "language_info": {
   "codemirror_mode": {
    "name": "ipython",
    "version": 3
   },
   "file_extension": ".py",
   "mimetype": "text/x-python",
   "name": "python",
   "nbconvert_exporter": "python",
   "pygments_lexer": "ipython3",
   "version": "3.8.8"
  }
 },
 "nbformat": 4,
 "nbformat_minor": 5
}
